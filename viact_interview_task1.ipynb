{
  "nbformat": 4,
  "nbformat_minor": 0,
  "metadata": {
    "colab": {
      "name": "viact_interview_task1.ipynb",
      "provenance": [],
      "collapsed_sections": []
    },
    "kernelspec": {
      "name": "python3",
      "display_name": "Python 3"
    },
    "language_info": {
      "name": "python"
    }
  },
  "cells": [
    {
      "cell_type": "code",
      "metadata": {
        "id": "2yU3nP3aDc4w"
      },
      "source": [
        "import json\n",
        "import os\n"
      ],
      "execution_count": 1,
      "outputs": []
    },
    {
      "cell_type": "code",
      "metadata": {
        "id": "9nVlnppJ_AY-"
      },
      "source": [
        "input_json = json.load(open(\"drive/MyDrive/interview/task1/bbox_labels_600_hierarchy.json\", \"r\"))\n",
        "len(input_json[\"Subcategory\"][9][\"Subcategory\"])"
      ],
      "execution_count": null,
      "outputs": []
    },
    {
      "cell_type": "code",
      "metadata": {
        "id": "wNTXBmrvBc8r"
      },
      "source": [
        "# from typing import List, Dict\n",
        "\n",
        "def parse(label_obj,dict_obj, parent=None, childs=[]):\n",
        "\n",
        "    dict_obj[label_obj[\"LabelName\"]] = Label(label_obj[\"LabelName\"], label_obj[\"LabelName\"], parent, childs)\n",
        "    if \"Subcategory\" in label_obj.keys():\n",
        "        dict_obj[label_obj[\"LabelName\"]].childs = [i[\"LabelName\"] for i in label_obj[\"Subcategory\"]]\n",
        "        for i in label_obj[\"Subcategory\"]:\n",
        "            parse(i, dict_obj, dict_obj[label_obj[\"LabelName\"]], childs)\n",
        "  \n",
        "    return dict_obj\n",
        "\n",
        "class Label:\n",
        "  \"\"\" Label class, stores Label name, ID, parent and childs. \n",
        "      parent is a reference to parent label class, and childs contains the label ID's which are childs to the self.\n",
        "      \"\"\"\n",
        "  def __init__(self, name, id, parent, childs):\n",
        "    self.name = name\n",
        "    self.id = id\n",
        "    self.parent = parent\n",
        "    self.childs = childs\n",
        "\n",
        "  def get_name(self):\n",
        "    return self.name\n",
        "  def get_id(self):\n",
        "    return self.id\n",
        "  def get_parent(self):\n",
        "    return self.parent\n",
        "  def get_child(self):\n",
        "    return self.childs\n",
        "\n",
        "\n",
        "class OpenImageHeirarchy:\n",
        "  def __init__(self):\n",
        "    self.root = None\n",
        "    self.dict_obj = {}\n",
        "\n",
        "  def parse_from_file(self, path):\n",
        "    try:\n",
        "      input_json = json.load(open(\"drive/MyDrive/interview/task1/bbox_labels_600_hierarchy.json\", \"r\"))\n",
        "    except FileNotFoundError as _:\n",
        "      print(\"File not found, please check path\")\n",
        "    self.dict_obj  = parse(input_json, self.dict_obj, None , [])\n",
        "  \n",
        "  def parse_from_json(self, input_json):\n",
        "    # input_json = json.load(open(\"drive/MyDrive/interview/task1/bbox_labels_600_hierarchy.json\", \"r\"))\n",
        "    self.dict_obj  = parse(input_json, self.dict_obj, None , [])\n",
        "\n",
        "  def find_siblings(self, class1):\n",
        "    parent = self.dict_obj[class1].parent\n",
        "    parent.childs.remove(class1)\n",
        "    return parent.childs\n",
        "\n",
        "  def find_parent(self, class1):    \n",
        "    parent = self.dict_obj[class1].parent.get_id()\n",
        "    return parent\n",
        "  \n",
        "  def find_ancestors(self, class1):\n",
        "    label = self.dict_obj[class1]\n",
        "    ancestors  = []\n",
        "    while True:\n",
        "        # current = label\n",
        "        parent = label.parent\n",
        "        if parent:\n",
        "            ancestors.append(parent.id)\n",
        "            label = parent\n",
        "        else:\n",
        "            break\n",
        "    return ancestors\n",
        "  \n",
        "  def check_ancestory(self, class1, class2):\n",
        "\n",
        "    class1_ancestors = self.find_ancestors(class1)\n",
        "    class2_ancestors = self.find_ancestors(class2)\n",
        "    traverse_range  = min([len(class1_ancestors), len(class2_ancestors)])\n",
        "    same_ance_count_from_last = 0\n",
        "    same_ancestory = False\n",
        "    for i in range(1,traverse_range+1):\n",
        "        if class1_ancestors[-i] == class2_ancestors[-i]:\n",
        "            same_ance_count_from_last += 1\n",
        "            same_ancestory = True\n",
        "        else:\n",
        "            break\n",
        "    #print(same_ance_count_from_last)\n",
        "    # print(class1_ancestors[-same_ance_count_from_last:])\n",
        "    # print(class2_ancestors[-same_ance_count_from_last:])\n",
        "    assert class1_ancestors[-same_ance_count_from_last:] == class2_ancestors[-same_ance_count_from_last:]\n",
        "    \n",
        "    return class1_ancestors[-same_ance_count_from_last:], same_ancestory\n"
      ],
      "execution_count": 22,
      "outputs": []
    },
    {
      "cell_type": "markdown",
      "metadata": {
        "id": "UlYtxiuU2Vcs"
      },
      "source": [
        "## Test the class heirarchy code"
      ]
    },
    {
      "cell_type": "code",
      "metadata": {
        "id": "vwEGxNdNF14B"
      },
      "source": [
        "\n",
        "d  = \"{\\n\\t\\\"LabelName\\\": \\\"/m/0bl9f\\\", \\n\\t\\\"Subcategory\\\": [\\n\\t\\t{\\n\\t\\t\\t\\\"LabelName\\\": \\\"/m/0242l\\\"\\n\\t\\t}, \\n\\t\\t{\\n\\t\\t\\t\\\"LabelName\\\": \\\"/m/03120\\\"\\n\\t\\t}, \\n\\t\\t{\\n\\t\\t\\t\\\"LabelName\\\": \\\"/m/0h8l4fh\\\"\\n\\t\\t}, \\n\\t\\t{\\n\\t\\t\\t\\\"LabelName\\\": \\\"/m/0138tl\\\", \\n\\t\\t\\t\\\"Subcategory\\\": [\\n\\t\\t\\t\\t{\\n\\t\\t\\t\\t\\t\\\"LabelName\\\": \\\"/m/0167gd\\\"\\n\\t\\t\\t\\t}, \\n\\t\\t\\t\\t{\\n\\t\\t\\t\\t\\t\\\"LabelName\\\": \\\"/m/01j51\\\"\\n\\t\\t\\t\\t}, \\n\\t\\t\\t\\t{\\n\\t\\t\\t\\t\\t\\\"LabelName\\\": \\\"/m/029b3\\\"\\n\\t\\t\\t\\t}, \\n\\t\\t\\t\\t{\\n\\t\\t\\t\\t\\t\\\"LabelName\\\": \\\"/m/02wmf\\\"\\n\\t\\t\\t\\t}, \\n\\t\\t\\t\\t{\\n\\t\\t\\t\\t\\t\\\"LabelName\\\": \\\"/m/02zt3\\\"\\n\\t\\t\\t\\t}, \\n\\t\\t\\t\\t{\\n\\t\\t\\t\\t\\t\\\"LabelName\\\": \\\"/m/0kmg4\\\"\\n\\t\\t\\t\\t}\\n\\t\\t\\t]\\n\\t\\t}, \\n\\t\\t{\\n\\t\\t\\t\\\"LabelName\\\": \\\"/m/019dx1\\\", \\n\\t\\t\\t\\\"Subcategory\\\": [\\n\\t\\t\\t\\t{\\n\\t\\t\\t\\t\\t\\\"LabelName\\\": \\\"/m/0174k2\\\"\\n\\t\\t\\t\\t}, \\n\\t\\t\\t\\t{\\n\\t\\t\\t\\t\\t\\\"LabelName\\\": \\\"/m/01k6s3\\\"\\n\\t\\t\\t\\t}, \\n\\t\\t\\t\\t{\\n\\t\\t\\t\\t\\t\\\"LabelName\\\": \\\"/m/029bxz\\\"\\n\\t\\t\\t\\t}, \\n\\t\\t\\t\\t{\\n\\t\\t\\t\\t\\t\\\"LabelName\\\": \\\"/m/02pjr4\\\"\\n\\t\\t\\t\\t}, \\n\\t\\t\\t\\t{\\n\\t\\t\\t\\t\\t\\\"LabelName\\\": \\\"/m/02wv84t\\\"\\n\\t\\t\\t\\t}, \\n\\t\\t\\t\\t{\\n\\t\\t\\t\\t\\t\\\"LabelName\\\": \\\"/m/02x984l\\\"\\n\\t\\t\\t\\t}, \\n\\t\\t\\t\\t{\\n\\t\\t\\t\\t\\t\\\"LabelName\\\": \\\"/m/03qhv5\\\"\\n\\t\\t\\t\\t}, \\n\\t\\t\\t\\t{\\n\\t\\t\\t\\t\\t\\\"LabelName\\\": \\\"/m/03s_tn\\\"\\n\\t\\t\\t\\t}, \\n\\t\\t\\t\\t{\\n\\t\\t\\t\\t\\t\\\"LabelName\\\": \\\"/m/03wvsk\\\"\\n\\t\\t\\t\\t}, \\n\\t\\t\\t\\t{\\n\\t\\t\\t\\t\\t\\\"LabelName\\\": \\\"/m/040b_t\\\"\\n\\t\\t\\t\\t}, \\n\\t\\t\\t\\t{\\n\\t\\t\\t\\t\\t\\\"LabelName\\\": \\\"/m/04169hn\\\"\\n\\t\\t\\t\\t}, \\n\\t\\t\\t\\t{\\n\\t\\t\\t\\t\\t\\\"LabelName\\\": \\\"/m/04lvq_\\\"\\n\\t\\t\\t\\t}, \\n\\t\\t\\t\\t{\\n\\t\\t\\t\\t\\t\\\"LabelName\\\": \\\"/m/063rgb\\\"\\n\\t\\t\\t\\t}, \\n\\t\\t\\t\\t{\\n\\t\\t\\t\\t\\t\\\"LabelName\\\": \\\"/m/07xyvk\\\"\\n\\t\\t\\t\\t}, \\n\\t\\t\\t\\t{\\n\\t\\t\\t\\t\\t\\\"LabelName\\\": \\\"/m/0fx9l\\\"\\n\\t\\t\\t\\t}, \\n\\t\\t\\t\\t{\\n\\t\\t\\t\\t\\t\\\"LabelName\\\": \\\"/m/0ky7b\\\"\\n\\t\\t\\t\\t}, \\n\\t\\t\\t\\t{\\n\\t\\t\\t\\t\\t\\\"LabelName\\\": \\\"/m/0llzx\\\"\\n\\t\\t\\t\\t}, \\n\\t\\t\\t\\t{\\n\\t\\t\\t\\t\\t\\\"LabelName\\\": \\\"/m/0c3m8g\\\"\\n\\t\\t\\t\\t}, \\n\\t\\t\\t\\t{\\n\\t\\t\\t\\t\\t\\\"LabelName\\\": \\\"/m/03ldnb\\\"\\n\\t\\t\\t\\t}\\n\\t\\t\\t]\\n\\t\\t}\\n\\t]\\n}\"\n",
        "\n",
        "data = json.loads(d)\n",
        "heirarchy = OpenImageHeirarchy()\n",
        "heirarchy.parse_from_json(data)"
      ],
      "execution_count": 23,
      "outputs": []
    },
    {
      "cell_type": "code",
      "metadata": {
        "colab": {
          "base_uri": "https://localhost:8080/"
        },
        "id": "kmc1J2Ph-IW5",
        "outputId": "840d3660-e3c1-4393-d407-266fe4797773"
      },
      "source": [
        "print(heirarchy.find_siblings(\"/m/0242l\"))\n",
        "print(heirarchy.find_parent(\"/m/0242l\"))\n",
        "print(heirarchy.find_ancestors(\"/m/0242l\"))\n",
        "print(heirarchy.check_ancestory(\"/m/0242l\", \"/m/03120\"))"
      ],
      "execution_count": 24,
      "outputs": [
        {
          "output_type": "stream",
          "text": [
            "['/m/03120', '/m/0h8l4fh', '/m/0138tl', '/m/019dx1']\n",
            "/m/0bl9f\n",
            "['/m/0bl9f']\n",
            "(['/m/0bl9f'], True)\n"
          ],
          "name": "stdout"
        }
      ]
    }
  ]
}